{
 "cells": [
  {
   "cell_type": "markdown",
   "id": "ba8138fe",
   "metadata": {
    "id": "ba8138fe"
   },
   "source": [
    "# Script per moure datasets entre instàncies\n",
    "OBSERVACIÓ: No modifiqueu aquest document. Si necessiteu modificar-lo, feu-ne una còpia. Si teniu dubtes del codi, contactar amb rdr-contacte@csuc.cat\n",
    "## OBJECTIU DE L'SCRIPT\n",
    "L'objectiu principal d'aquest script és moure un dataset d'una instància fins a una altre\n",
    "## OBSERVACIÓ DE L'SCRIPT\n",
    "Per moure un dataset entre instàncies a través de l'API cal:\n",
    "\n",
    "- ser administrador de la instància / subinstància on es troba el dataset\n",
    "- ser administrador de la instància / subinstància on es vol moure el dataset"
   ]
  },
  {
   "cell_type": "code",
   "execution_count": null,
   "id": "jOL_Mgyl9Qj-",
   "metadata": {
    "cellView": "form",
    "id": "jOL_Mgyl9Qj-"
   },
   "outputs": [],
   "source": [
    "# @title Install or Update Libraries (Click the Run button &#x25B6; )\n",
    "import ipywidgets as widgets\n",
    "from IPython.display import display, HTML, clear_output\n",
    "\n",
    "def install_packages(b):\n",
    "    \"\"\"\n",
    "    Function to install or update required Python packages.\n",
    "\n",
    "    Args:\n",
    "    b (widget): Button widget that triggers the installation process.\n",
    "\n",
    "    Returns:\n",
    "    None\n",
    "    \"\"\"\n",
    "    clear_output(wait=True)\n",
    "    !pip install --upgrade pip -q  # Upgrade pip silently\n",
    "    !pip install pyDataverse -q    # Install or update pyDataverse silently\n",
    "    !pip install requests -q       # Install or update requests silently\n",
    "    print(\"Libraries downloaded or updated successfully.\")\n",
    "\n",
    "# Displaying installation message\n",
    "display(HTML(\"<p style='font-size:14px;'><b>Click the button below to install the required libraries.</b></p>\"))\n",
    "\n",
    "# Creating installation button\n",
    "install_button = widgets.Button(description='Install Libraries')\n",
    "install_button.on_click(install_packages)\n",
    "\n",
    "# Displaying the installation button\n",
    "display(install_button)\n"
   ]
  },
  {
   "cell_type": "code",
   "execution_count": null,
   "id": "7b0c17cd",
   "metadata": {
    "cellView": "form",
    "id": "7b0c17cd"
   },
   "outputs": [],
   "source": [
    "# @title Move Dataset by DOI (doi:10.34810/dataXXX), Token, and Target Dataverse Alias (https://dataverse.csuc.cat/dataverse/XXX). Click the Run button &#x25B6;\n",
    "import os\n",
    "import requests\n",
    "from pyDataverse.api import NativeApi\n",
    "from pathlib import Path\n",
    "\n",
    "def move_dataset(api_token, persistent_id, alias):\n",
    "    \"\"\"\n",
    "    Function to move a dataset to a different dataverse.\n",
    "\n",
    "    Args:\n",
    "    api_token (str): API token for authentication.\n",
    "    persistent_id (str): Persistent identifier (DOI) of the dataset.\n",
    "    alias (str): Alias of the target dataverse.\n",
    "\n",
    "    Returns:\n",
    "    None\n",
    "    \"\"\"\n",
    "    server_url = 'https://dataverse.csuc.cat' #URL of your repository\n",
    "    \n",
    "    # Construct the URL to retrieve the dataset information\n",
    "    dataset_url = f\"{server_url}/api/datasets/:persistentId/?persistentId={persistent_id}\"\n",
    "    \n",
    "    headers = {\"X-Dataverse-key\": api_token}\n",
    "    \n",
    "    # Get the dataset ID\n",
    "    response = requests.get(dataset_url, headers=headers)\n",
    "    dataset_id = response.json()['data']['id']\n",
    "    \n",
    "    # Move the dataset using the provided alias\n",
    "    move_url = f\"{server_url}/api/datasets/{dataset_id}/move/{alias}\"\n",
    "    move_response = requests.post(move_url, headers=headers)\n",
    "    \n",
    "    # Check the status of the move operation\n",
    "    if move_response.status_code == 200:\n",
    "        print(\"Dataset move operation successful.\")\n",
    "    else:\n",
    "        print(\"Dataset move operation failed.\")\n",
    "\n",
    "# Provide input values DOI , TOKEN and ALIAS\n",
    "doi = \"\"    # @param {type:\"string\"} \n",
    "token = \"\"  # @param {type:\"string\"} \n",
    "alias = \"\"  # @param {type:\"string\"} \n",
    "\n",
    "# Move the dataset\n",
    "move_dataset(token, doi, alias)\n"
   ]
  }
 ],
 "metadata": {
  "colab": {
   "provenance": []
  },
  "kernelspec": {
   "display_name": "Python 3 (ipykernel)",
   "language": "python",
   "name": "python3"
  },
  "language_info": {
   "codemirror_mode": {
    "name": "ipython",
    "version": 3
   },
   "file_extension": ".py",
   "mimetype": "text/x-python",
   "name": "python",
   "nbconvert_exporter": "python",
   "pygments_lexer": "ipython3",
   "version": "3.9.12"
  }
 },
 "nbformat": 4,
 "nbformat_minor": 5
}
